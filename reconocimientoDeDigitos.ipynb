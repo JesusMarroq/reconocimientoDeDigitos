{
 "cells": [
  {
   "cell_type": "markdown",
   "metadata": {},
   "source": [
    "# Importamos las Librerias\n",
    "\n"
   ]
  },
  {
   "cell_type": "code",
   "execution_count": 1,
   "metadata": {},
   "outputs": [],
   "source": [
    "import tensorflow as tf\n",
    "import matplotlib.pyplot as plt\n",
    "import numpy as np"
   ]
  },
  {
   "cell_type": "markdown",
   "metadata": {},
   "source": [
    "# Cargamos los atributos \n",
    "\n",
    "Para este proyecto ocupamos la base  de datos MNIST \n"
   ]
  },
  {
   "cell_type": "code",
   "execution_count": 2,
   "metadata": {},
   "outputs": [],
   "source": [
    "##ocupamos los mismos valores que nos muestra el load data del mnist\n",
    "(X_train, y_train), (X_test, y_test) = tf.keras.datasets.mnist.load_data()"
   ]
  },
  {
   "cell_type": "markdown",
   "metadata": {},
   "source": [
    "#  Obtener los datos de entrada y normalizarlos\n",
    "\n"
   ]
  },
  {
   "cell_type": "code",
   "execution_count": 3,
   "metadata": {},
   "outputs": [],
   "source": [
    "##Pre procesar las imagenes\n",
    "##se divide entre 255 para normalizarlar la imagen al rango [0,1]\n",
    "X_train = X_train.astype('float32')/255\n",
    "X_test = X_test.astype('float32')/255"
   ]
  },
  {
   "cell_type": "code",
   "execution_count": 4,
   "metadata": {},
   "outputs": [],
   "source": [
    "##Expande las dimensiones de las imagenes a (28,28,1)\n",
    "X_train = np.expand_dims(X_train, axis=-1)\n",
    "X_test = np.expand_dims(X_test, axis=-1)"
   ]
  },
  {
   "cell_type": "markdown",
   "metadata": {},
   "source": [
    "# Visualizacion de los datos"
   ]
  },
  {
   "cell_type": "code",
   "execution_count": 6,
   "metadata": {},
   "outputs": [],
   "source": [
    "##definimos nuestra funcion para que muestre los ejemplos\n",
    "def mostrar_ejemplos(ejemplos, etiquetas):\n",
    "    plt.figure(figsize=(10, 10))\n",
    "##dentro de los valores de mnist mostrar 25 imagenes aleatorias como ejemplo\n",
    "    for i in range(25):\n",
    "        index = np.random.randint(0, ejemplos.shape[0]-1)\n",
    "        img = ejemplos[index]\n",
    "        label = etiquetas[index]\n",
    "        ##graficar los valores 5, 5 \n",
    "        plt.subplot(5, 5, i+1)\n",
    "        plt.title(str(label))\n",
    "        plt.tight_layout()\n",
    "        plt.imshow(img, cmap='gray')\n",
    "    plt.show()\n"
   ]
  },
  {
   "cell_type": "code",
   "execution_count": null,
   "metadata": {},
   "outputs": [],
   "source": [
    "mostrar_ejemplos(X_train,y_train)"
   ]
  },
  {
   "cell_type": "markdown",
   "metadata": {},
   "source": [
    "# Modelo"
   ]
  },
  {
   "cell_type": "code",
   "execution_count": 8,
   "metadata": {},
   "outputs": [],
   "source": [
    "##(Conv2D(unidades,tamano de kernel,)), el numero de unidades tiene que duplicarse\n",
    "##28,28 es las dimensiones que maneja mnist en pixeles\n",
    "##relu es nuestro rectificador de redes neuronales \n",
    "modelo = tf.keras.Sequential([\n",
    "    ##capa de entrada, forma de 28*28 pixeles\n",
    "    tf.keras.layers.InputLayer(input_shape=(28, 28, 1)),\n",
    "    ##operación matemática que combina dos funciones y genera una tercera funcion.\n",
    "    ##el activador sera nuestro rectificador relu\n",
    "    tf.keras.layers.Conv2D(32, (3, 3), activation='relu'),\n",
    "    tf.keras.layers.Conv2D(64, (3, 3), activation='relu'),\n",
    "    ##para el pooling, o comparacion sobre entradas \n",
    "    tf.keras.layers.MaxPool2D(),\n",
    "    tf.keras.layers.BatchNormalization(),\n",
    "\n",
    "    tf.keras.layers.Conv2D(128, (3, 3), activation='relu'),\n",
    "    tf.keras.layers.MaxPool2D(),\n",
    "    tf.keras.layers.BatchNormalization(),\n",
    "    \n",
    "    ##convierte el vector en probabilidades\n",
    "    tf.keras.layers.GlobalAvgPool2D(),\n",
    "    tf.keras.layers.Dense(64, activation='relu'),\n",
    "    tf.keras.layers.Dense(10, activation='softmax')\n",
    "])\n"
   ]
  },
  {
   "cell_type": "code",
   "execution_count": 14,
   "metadata": {},
   "outputs": [
    {
     "name": "stdout",
     "output_type": "stream",
     "text": [
      "Epoch 1/3\n",
      "750/750 [==============================] - 421s 559ms/step - loss: 0.2202 - accuracy: 0.9407 - val_loss: 0.1032 - val_accuracy: 0.9712\n",
      "Epoch 2/3\n",
      "750/750 [==============================] - 388s 517ms/step - loss: 0.0524 - accuracy: 0.9835 - val_loss: 0.0926 - val_accuracy: 0.9727\n",
      "Epoch 3/3\n",
      "750/750 [==============================] - 387s 517ms/step - loss: 0.0365 - accuracy: 0.9883 - val_loss: 0.0999 - val_accuracy: 0.9672\n",
      "157/157 [==============================] - 26s 163ms/step - loss: 0.0911 - accuracy: 0.9702\n"
     ]
    },
    {
     "data": {
      "text/plain": [
       "[0.09108363837003708, 0.9702000021934509]"
      ]
     },
     "execution_count": 14,
     "metadata": {},
     "output_type": "execute_result"
    }
   ],
   "source": [
    "##adam esta basado en la estimizacion adaptativa de momentos de primer y segundo orden\n",
    "##sparse crea 2 variables total y recuento, se utilizan para calcular la frecuencia\n",
    "##acuracy es nuestra precision\n",
    "modelo.compile(optimizer='adam',\n",
    "                  loss='sparse_categorical_crossentropy', metrics='accuracy')\n",
    "modelo.fit(X_train, y_train, batch_size=64, epochs=3, validation_split=0.2)\n",
    "modelo.evaluate(X_test, y_test, batch_size=64)"
   ]
  },
  {
   "cell_type": "code",
   "execution_count": null,
   "metadata": {},
   "outputs": [],
   "source": [
    "##mandamos a llamar a nuestro modelo\n",
    "modelo.summary()"
   ]
  },
  {
   "cell_type": "markdown",
   "metadata": {},
   "source": []
  },
  {
   "cell_type": "markdown",
   "metadata": {},
   "source": [
    "# Aplicacion del modelo"
   ]
  },
  {
   "cell_type": "code",
   "execution_count": 16,
   "metadata": {},
   "outputs": [],
   "source": [
    "import gradio as gr"
   ]
  },
  {
   "cell_type": "code",
   "execution_count": 17,
   "metadata": {},
   "outputs": [],
   "source": [
    "##definimos nuestra funcion para predecir la imagen\n",
    "def predecir_imagen(img):\n",
    "    ##remodelamos\n",
    "    img_3d=img.reshape(-1,28,28,1)\n",
    "    img_norm=img_3d.astype('float32')/255\n",
    "    prediction=modelo.predict(img_norm)\n",
    "    pred=np.argmax(prediction)\n",
    "    return pred\n"
   ]
  },
  {
   "cell_type": "code",
   "execution_count": null,
   "metadata": {},
   "outputs": [],
   "source": [
    "##iface variable de la funcion interface\n",
    "iface=gr.Interface(predecir_imagen,inputs=\"sketchpad\",outputs=\"label\")"
   ]
  },
  {
   "cell_type": "code",
   "execution_count": null,
   "metadata": {},
   "outputs": [],
   "source": [
    "##lanzamos nuestra interface \n",
    "iface.launch(debug='True')"
   ]
  },
  {
   "cell_type": "code",
   "execution_count": null,
   "metadata": {},
   "outputs": [],
   "source": []
  }
 ],
 "metadata": {
  "kernelspec": {
   "display_name": "Python 3.10.8 64-bit (microsoft store)",
   "language": "python",
   "name": "python3"
  },
  "language_info": {
   "codemirror_mode": {
    "name": "ipython",
    "version": 3
   },
   "file_extension": ".py",
   "mimetype": "text/x-python",
   "name": "python",
   "nbconvert_exporter": "python",
   "pygments_lexer": "ipython3",
   "version": "3.10.8"
  },
  "vscode": {
   "interpreter": {
    "hash": "53109e904b0a05590e89c2936deb7dfb614fc9561de04a2e1c64042435ff3784"
   }
  }
 },
 "nbformat": 4,
 "nbformat_minor": 2
}
